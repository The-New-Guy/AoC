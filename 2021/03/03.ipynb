{
 "cells": [
  {
   "cell_type": "markdown",
   "metadata": {},
   "source": [
    "# Day 3 : Binary Diagnostic\n",
    "\n",
    "## Part 1 : Puzzle Description\n",
    "\n",
    "The submarine has been making some odd creaking noises, so you ask it to produce a diagnostic report just in case.\n",
    "\n",
    "The diagnostic report (your puzzle input) consists of a list of binary numbers which, when decoded properly, can tell you many useful things about the conditions of the submarine. The first parameter to check is the **power consumption**.\n",
    "\n",
    "You need to use the binary numbers in the diagnostic report to generate two new binary numbers (called the **gamma rate** and the **epsilon rate**). The power consumption can then be found by multiplying the gamma rate by the epsilon rate.\n",
    "\n",
    "Each bit in the gamma rate can be determined by finding the **most common bit in the corresponding position** of all numbers in the diagnostic report. For example, given the following diagnostic report:\n",
    "\n",
    "```\n",
    "00100\n",
    "11110\n",
    "10110\n",
    "10111\n",
    "10101\n",
    "01111\n",
    "00111\n",
    "11100\n",
    "10000\n",
    "11001\n",
    "00010\n",
    "01010\n",
    "```\n",
    "\n",
    "Considering only the first bit of each number, there are five `0` bits and seven `1` bits. Since the most common bit is `1`, the first bit of the gamma rate is `1`.\n",
    "\n",
    "The most common second bit of the numbers in the diagnostic report is `0`, so the second bit of the gamma rate is `0`.\n",
    "\n",
    "The most common value of the third, fourth, and fifth bits are `1`, `1`, and `0`, respectively, and so the final three bits of the gamma rate are `110`.\n",
    "\n",
    "So, the gamma rate is the binary number `10110`, or **`22`** in decimal.\n",
    "\n",
    "The epsilon rate is calculated in a similar way; rather than use the most common bit, the least common bit from each position is used. So, the epsilon rate is `01001`, or **`9`** in decimal. Multiplying the gamma rate (`22`) by the epsilon rate (`9`) produces the power consumption, **`198`**.\n",
    "\n",
    "Use the binary numbers in your diagnostic report to calculate the gamma rate and epsilon rate, then multiply them together. **What is the power consumption of the submarine?** (Be sure to represent your answer in decimal, not binary.)"
   ]
  },
  {
   "cell_type": "markdown",
   "metadata": {},
   "source": [
    "## Load Diagnostic Report"
   ]
  },
  {
   "cell_type": "code",
   "execution_count": 1,
   "metadata": {},
   "outputs": [
    {
     "name": "stdout",
     "output_type": "stream",
     "text": [
      "Report Entries: 1000\n"
     ]
    }
   ],
   "source": [
    "# with open(\"example\", \"r\") as file:\n",
    "with open(\"input\", \"r\") as file:\n",
    "    report = file.read().splitlines()\n",
    "\n",
    "print(\"Report Entries:\", len(report))"
   ]
  },
  {
   "cell_type": "markdown",
   "metadata": {},
   "source": [
    "## Helper Functions"
   ]
  },
  {
   "cell_type": "code",
   "execution_count": 2,
   "metadata": {},
   "outputs": [],
   "source": [
    "def get_bit_count(report: list, bit_len: int = 0, shift_right: int = 0) -> list:\n",
    "\n",
    "    if bit_len < 1:\n",
    "        bit_len = get_bitlen(report)\n",
    "\n",
    "    if shift_right > 0:\n",
    "        bit_len -= shift_right\n",
    "\n",
    "    # Gamma counts per binary position start at zero.\n",
    "    # Afer final tallies, positives counts equal 1, negatives equal 0.\n",
    "    # Ignore tie count as challenge does not list criteria for how to handle it.\n",
    "    gamma_counts = [0] * bit_len\n",
    "\n",
    "    # Loop over report lines (1000 times).\n",
    "    for reading in report:\n",
    "\n",
    "        read_int = int(reading, 2)\n",
    "        if shift_right > 0:\n",
    "            read_int = read_int >> shift_right\n",
    "\n",
    "        # Loop over each bit (bit_len times).\n",
    "        for i in range(bit_len):\n",
    "            # Check bit i starting from the right moving to the left.\n",
    "            # Interation Round 1 EX: 010i where i = 0 or 1\n",
    "            # Interation Round 2 EX: 01i0 where i = 0 or 1\n",
    "            if read_int & (2**i) == 0:\n",
    "                gamma_counts[-i - 1] -= 1\n",
    "            else:\n",
    "                gamma_counts[-i - 1] += 1\n",
    "\n",
    "    return gamma_counts\n",
    "\n",
    "def get_gamma(gamma_counts: list) -> int:\n",
    "\n",
    "    # Convert to gamma reading (binary with most common bits).\n",
    "    gamma = 0\n",
    "    for bit_count in gamma_counts:\n",
    "        # If currnet bit count is positive set right most gamma bit to 1.\n",
    "        # Otherwise leave it as a zero.\n",
    "        if bit_count > 0:\n",
    "            gamma = gamma | 1\n",
    "\n",
    "        # Now shift bits to the left.\n",
    "        # New right most bit will be zero and updated next interation.\n",
    "        gamma = gamma << 1\n",
    "\n",
    "    # Off by one shift left. Shift once back right.\n",
    "    gamma = gamma >> 1\n",
    "\n",
    "    return gamma\n",
    "\n",
    "def get_epsilon(gamma: int, bit_len: int) -> int:\n",
    "    bit_len_mask = (2**bit_len) - 1\n",
    "    return (gamma ^ bit_len_mask)  # XOR gamma for epsilon.\n",
    "\n",
    "def get_bitlen(report: list) -> tuple:\n",
    "    bit_len = len(report[0])\n",
    "    return bit_len\n"
   ]
  },
  {
   "cell_type": "markdown",
   "metadata": {},
   "source": [
    "## Part 1 : Puzzle Solution"
   ]
  },
  {
   "cell_type": "code",
   "execution_count": 3,
   "metadata": {},
   "outputs": [
    {
     "name": "stdout",
     "output_type": "stream",
     "text": [
      "Bit Length: 12\n",
      "Gamma Counts: [18, 44, -34, 16, 50, 22, -36, -24, -24, 28, 34, 50]\n",
      "Gamma Reading: 3527 \t\t(110111000111)\n",
      "Epsilon Reading: 568 \t\t(001000111000)\n",
      "Power Consumption: 2003336 \t(000111101001000110001000)\n"
     ]
    }
   ],
   "source": [
    "bit_len = get_bitlen(report)\n",
    "print(\"Bit Length:\", bit_len)\n",
    "\n",
    "counts = get_bit_count(report)\n",
    "print(\"Gamma Counts:\", counts)\n",
    "\n",
    "# Gamma, Epsilon, and Power Consumption.\n",
    "gamma = get_gamma(counts)\n",
    "epsilon = get_epsilon(gamma, bit_len)\n",
    "power = gamma * epsilon\n",
    "\n",
    "print(\"Gamma Reading:\", gamma, f\"\\t\\t({'{0:b}'.format(gamma).zfill(bit_len)})\")\n",
    "\n",
    "print(\"Epsilon Reading:\", epsilon, f\"\\t\\t({'{0:b}'.format(epsilon).zfill(bit_len)})\")\n",
    "\n",
    "print(\"Power Consumption:\", power, f\"\\t({'{0:b}'.format(power).zfill(bit_len * 2)})\")\n"
   ]
  },
  {
   "cell_type": "markdown",
   "metadata": {},
   "source": [
    "## Part 2 : Puzzle Description\n",
    "\n",
    "Next, you should verify the **life support rating**, which can be determined by multiplying the **oxygen generator rating** by the **CO2 scrubber rating**.\n",
    "\n",
    "Both the oxygen generator rating and the CO2 scrubber rating are values that can be found in your diagnostic report - finding them is the tricky part. Both values are located using a similar process that involves filtering out values until only one remains. Before searching for either rating value, start with the full list of binary numbers from your diagnostic report and **consider just the first bit** of those numbers. Then:\n",
    "\n",
    "- Keep only numbers selected by the **bit criteria** for the type of rating value for which you are searching. Discard numbers which do not match the bit criteria.\n",
    "- If you only have one number left, stop; this is the rating value for which you are searching.\n",
    "- Otherwise, repeat the process, considering the next bit to the right.\n",
    "\n",
    "The **bit criteria** depends on which type of rating value you want to find:\n",
    "\n",
    "- To find **oxygen generator rating**, determine the **most common** value (`0` or `1`) in the current bit position, and keep only numbers with that bit in that position. If `0` and `1` are equally common, keep values with a **`1`** in the position being considered.\n",
    "- To find **CO2 scrubber rating**, determine the **least common** value (`0` or `1`) in the current bit position, and keep only numbers with that bit in that position. If `0` and `1` are equally common, keep values with a **`0`** in the position being considered.\n",
    "\n",
    "For example, to determine the **oxygen generator rating** value using the same example diagnostic report from above:\n",
    "\n",
    "- Start with all 12 numbers and consider only the first bit of each number. There are more `1` bits (7) than `0` bits (5), so keep only the 7 numbers with a `1` in the first position: `11110`, `10110`, `10111`, `10101`, `11100`, `10000`, and `11001`.\n",
    "- Then, consider the second bit of the 7 remaining numbers: there are more `0` bits (4) than `1` bits (3), so keep only the 4 numbers with a `0` in the second position: `10110`, `10111`, `10101`, and `10000`.\n",
    "- In the third position, three of the four numbers have a `1`, so keep those three: `10110`, `10111`, and `10101`.\n",
    "- In the fourth position, two of the three numbers have a `1`, so keep those two: `10110` and `10111`.\n",
    "- In the fifth position, there are an equal number of `0` bits and `1` bits (one each). So, to find the **oxygen generator rating**, keep the number with a `1` in that position: `10111`.\n",
    "- As there is only one number left, stop; the **oxygen generator rating** is `10111`, or **`23`** in decimal.\n",
    "\n",
    "Then, to determine the **CO2 scrubber rating** value from the same example above:\n",
    "\n",
    "- Start again with all 12 numbers and consider only the first bit of each number. There are fewer `0` bits (5) than `1` bits (7), so keep only the 5 numbers with a `0` in the first position: `00100`, `01111`, `00111`, `00010`, and `01010`.\n",
    "- Then, consider the second bit of the 5 remaining numbers: there are fewer `1` bits (2) than `0` bits (3), so keep only the 2 numbers with a `1` in the second position: `01111` and `01010`.\n",
    "- In the third position, there are an equal number of `0` bits and `1` bits (one each). So, to find the **CO2 scrubber rating**, keep the number with a `0` in that position: `01010`.\n",
    "- As there is only one number left, stop; the **CO2 scrubber rating** is `01010`, or **`10`** in decimal.\n",
    "\n",
    "Finally, to find the life support rating, multiply the oxygen generator rating (`23`) by the CO2 scrubber rating (`10`) to get **`230`**.\n",
    "\n",
    "Use the binary numbers in your diagnostic report to calculate the oxygen generator rating and CO2 scrubber rating, then multiply them together. **What is the life support rating of the submarine?** (Be sure to represent your answer in decimal, not binary.)"
   ]
  },
  {
   "cell_type": "markdown",
   "metadata": {},
   "source": [
    "## Part 2 : Puzzle Solution"
   ]
  },
  {
   "cell_type": "code",
   "execution_count": 4,
   "metadata": {},
   "outputs": [
    {
     "name": "stdout",
     "output_type": "stream",
     "text": [
      "Bit Length: 12\n",
      "Analyzing: O2 Generator\n",
      "Analyzing: CO2 Scrubber\n",
      "\n",
      "-----------------------------------\n",
      "O2 Generator Rating:  2547\n",
      "CO2 Scrubber Rating:  737\n",
      "Life Support Rating:  1877139\n"
     ]
    }
   ],
   "source": [
    "bit_len = get_bitlen(report)\n",
    "print(\"Bit Length:\", bit_len)\n",
    "\n",
    "ratings = {\"O2 Generator\": 0, \"CO2 Scrubber\": 0}\n",
    "\n",
    "for ls_type in ratings.keys():\n",
    "\n",
    "    ls = report\n",
    "\n",
    "    start = 0\n",
    "    end = start + 1\n",
    "\n",
    "    print(\"Analyzing:\", ls_type)\n",
    "\n",
    "    while len(ls) > 1:\n",
    "\n",
    "        # Get bit counts one bit column at a time using a sliding window.\n",
    "        counts = get_bit_count(\n",
    "            ls, bit_len=(bit_len - start), shift_right=(bit_len - end)\n",
    "        )\n",
    "\n",
    "        # Get gamma if O2 and epsilon if CO2.\n",
    "        if ls_type.startswith(\"O2\"):\n",
    "            if counts[0] == 0:\n",
    "                common_bit = 1\n",
    "            else:\n",
    "                common_bit = get_gamma(counts)\n",
    "        else:\n",
    "            if counts[0] == 0:\n",
    "                common_bit = 0\n",
    "            else:\n",
    "                gamma = get_gamma(counts)\n",
    "                common_bit = get_epsilon(gamma, 1)  # Only ever one bit at a time.\n",
    "\n",
    "        # print(\"Common Bit:\", common_bit)\n",
    "\n",
    "        # Filter all those that don't match the most/least common bit.\n",
    "        ls = [reading for reading in ls if reading[start:end] == str(common_bit)]\n",
    "        # print(ls)\n",
    "\n",
    "        # Move sliding window for next loop iteration.\n",
    "        start += 1\n",
    "        end += 1\n",
    "\n",
    "    # List type done, save for later.\n",
    "    ratings[ls_type] = int(ls[0], 2)\n",
    "\n",
    "    # print(f\"\\nRating: {ls_type} = {ratings[ls_type]}\")\n",
    "\n",
    "# Done, print results.\n",
    "print(f\"\\n{('-' * 35)}\")\n",
    "print(\"O2 Generator Rating: \", ratings[\"O2 Generator\"])\n",
    "print(\"CO2 Scrubber Rating: \", ratings[\"CO2 Scrubber\"])\n",
    "print(\"Life Support Rating: \", (ratings[\"O2 Generator\"] * ratings[\"CO2 Scrubber\"]))\n"
   ]
  },
  {
   "cell_type": "markdown",
   "metadata": {},
   "source": [
    "## After Thoughts\n",
    "\n",
    "Part 1 does not have criteria for what happens if there is a tie in `1`'s and `0`'s for a given bit? I think the input is designed to avoid this issue but it forces me to make a decision about how to handle this without clear criteria in the challenge. I've chosen to ignore it and seem to get the correct answer.\n",
    "\n",
    "Part 1 was rewritten significantly from the previous commit here. Mostly to make Part 2 easier.\n",
    "\n",
    "I did this in bitwise operators as much as possible mainly just because this whole challenge was about manipulating bits. In a real project I would not rely on bitwise operators as much. While it is possible to speed things up with bitwise operations, it makes the code look horrendous and pratically incomprhensible to most humans. Developers working with code like this are far more likely to make shift errors or off by one errors that are hard to find and review by other developers."
   ]
  }
 ],
 "metadata": {
  "interpreter": {
   "hash": "fcad12e042f6e7b9c9dd464ec0a438eeade8edea4509591df912657ce5510344"
  },
  "kernelspec": {
   "display_name": "Python 3.9.7 64-bit ('junk': conda)",
   "language": "python",
   "name": "python3"
  },
  "language_info": {
   "codemirror_mode": {
    "name": "ipython",
    "version": 3
   },
   "file_extension": ".py",
   "mimetype": "text/x-python",
   "name": "python",
   "nbconvert_exporter": "python",
   "pygments_lexer": "ipython3",
   "version": "3.9.7"
  },
  "orig_nbformat": 4
 },
 "nbformat": 4,
 "nbformat_minor": 2
}
