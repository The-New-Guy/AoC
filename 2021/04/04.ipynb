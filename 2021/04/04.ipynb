{
 "cells": [
  {
   "cell_type": "markdown",
   "metadata": {},
   "source": [
    "# Day 4 : Giant Squid\n",
    "\n",
    "## Part 1 : Puzzle Description\n",
    "\n",
    "You're already almost 1.5km (almost a mile) below the surface of the ocean, already so deep that you can't see any sunlight. What you **can** see, however, is a giant squid that has attached itself to the outside of your submarine.\n",
    "\n",
    "Maybe it wants to play [bingo](https://en.wikipedia.org/wiki/Bingo_(American_version))?\n",
    "\n",
    "Bingo is played on a set of boards each consisting of a 5x5 grid of numbers. Numbers are chosen at random, and the chosen number is marked on all boards on which it appears. (Numbers may not appear on all boards.) If all numbers in any row or any column of a board are marked, that board **wins**. (Diagonals don't count.)\n",
    "\n",
    "The submarine has a **bingo subsystem** to help passengers (currently, you and the giant squid) pass the time. It automatically generates a random order in which to draw numbers and a random set of boards (your puzzle input). For example:\n",
    "\n",
    "```text\n",
    "7,4,9,5,11,17,23,2,0,14,21,24,10,16,13,6,15,25,12,22,18,20,8,19,3,26,1\n",
    "\n",
    "22 13 17 11  0\n",
    " 8  2 23  4 24\n",
    "21  9 14 16  7\n",
    " 6 10  3 18  5\n",
    " 1 12 20 15 19\n",
    "\n",
    " 3 15  0  2 22\n",
    " 9 18 13 17  5\n",
    "19  8  7 25 23\n",
    "20 11 10 24  4\n",
    "14 21 16 12  6\n",
    "\n",
    "14 21 17 24  4\n",
    "10 16 15  9 19\n",
    "18  8 23 26 20\n",
    "22 11 13  6  5\n",
    " 2  0 12  3  7\n",
    "```\n",
    "\n",
    "After the first five numbers are drawn (`7`, `4`, `9`, `5`, and `11`), there are no winners, but the boards are marked as follows (shown here adjacent to each other to save space):\n",
    "\n",
    "```text\n",
    "22 13 17 11  0         3 15  0  2 22        14 21 17 24  4\n",
    " 8  2 23  4 24         9 18 13 17  5        10 16 15  9 19\n",
    "21  9 14 16  7        19  8  7 25 23        18  8 23 26 20\n",
    " 6 10  3 18  5        20 11 10 24  4        22 11 13  6  5\n",
    " 1 12 20 15 19        14 21 16 12  6         2  0 12  3  7\n",
    "```\n",
    "\n",
    "After the next six numbers are drawn (`17`, `23`, `2`, `0`, `14`, and `21`), there are still no winners:\n",
    "\n",
    "```text\n",
    "22 13 17 11  0         3 15  0  2 22        14 21 17 24  4\n",
    " 8  2 23  4 24         9 18 13 17  5        10 16 15  9 19\n",
    "21  9 14 16  7        19  8  7 25 23        18  8 23 26 20\n",
    " 6 10  3 18  5        20 11 10 24  4        22 11 13  6  5\n",
    " 1 12 20 15 19        14 21 16 12  6         2  0 12  3  7\n",
    "```\n",
    "\n",
    "Finally, `24` is drawn:\n",
    "\n",
    "22 13 17 11  0         3 15  0  2 22        14 21 17 24  4\n",
    " 8  2 23  4 24         9 18 13 17  5        10 16 15  9 19\n",
    "21  9 14 16  7        19  8  7 25 23        18  8 23 26 20\n",
    " 6 10  3 18  5        20 11 10 24  4        22 11 13  6  5\n",
    " 1 12 20 15 19        14 21 16 12  6         2  0 12  3  7\n",
    "\n",
    "At this point, the third board `wins` because it has at least one complete row or column of marked numbers (in this case, the entire top row is marked: `14 21 17 24 4`).\n",
    "\n",
    "The **score** of the winning board can now be calculated. Start by finding the **sum of all unmarked numbers** on that board; in this case, the sum is `188`. Then, multiply that sum by **the number that was just called** when the board won, `24`, to get the final score, `188 * 24 = 4512`.\n",
    "\n",
    "To guarantee victory against the giant squid, figure out which board will win first. **What will your final score be if you choose that board?**"
   ]
  },
  {
   "cell_type": "markdown",
   "metadata": {},
   "source": [
    "## Load Numbers Drawn and Boards"
   ]
  },
  {
   "cell_type": "code",
   "execution_count": 1,
   "metadata": {},
   "outputs": [],
   "source": [
    "import numpy as np\n",
    "\n",
    "# with open(\"example\", \"r\") as file:\n",
    "with open(\"input\", \"r\") as file:\n",
    "    drawn_numbers = [int(n) for n in next(file).rstrip().split(\",\")]\n",
    "\n",
    "    boards = []\n",
    "    board_marks = []\n",
    "    for line in file:\n",
    "        if line.rstrip() == \"\":\n",
    "            boards.append([])\n",
    "            board_marks.append(np.zeros(shape=(5,5)))\n",
    "        else:\n",
    "            row = line.rstrip().split()\n",
    "            boards[-1].append([int(n) for n in row])\n",
    "\n",
    "boards = [np.array(brd) for brd in boards]\n",
    "\n",
    "# print(\"Drawn Numbers:\", drawn_numbers)\n",
    "# print(\"\\nBoards:\")\n",
    "# for brd in boards:\n",
    "#     print()\n",
    "#     print(brd)\n",
    "\n",
    "# print(\"\\nBoard Marks:\")\n",
    "# for brd in board_marks:\n",
    "#     print()\n",
    "#     print(brd)"
   ]
  },
  {
   "cell_type": "markdown",
   "metadata": {},
   "source": [
    "## Helper Functions"
   ]
  },
  {
   "cell_type": "code",
   "execution_count": 2,
   "metadata": {},
   "outputs": [],
   "source": [
    "def check_board(board: np.array) -> bool:\n",
    "    row_marks = 0\n",
    "    col_marks = 0\n",
    "    win_found = False\n",
    "\n",
    "    for row in board:\n",
    "        if row.sum() == 5:\n",
    "            win_found = True\n",
    "            break\n",
    "\n",
    "    for col in board.transpose():\n",
    "        if col.sum() == 5:\n",
    "            win_found = True\n",
    "            break\n",
    "\n",
    "    return win_found\n",
    "\n",
    "def mark_board(number: int, board: np.array, board_mark: np.array) -> None:\n",
    "    row, col = np.where(board == number)\n",
    "    if len(row) > 0:\n",
    "        board_mark[row[0]][col[0]] = 1\n",
    "\n",
    "def sum_unmarked(board: np.array, board_mark: np.array) -> int:\n",
    "    rows, cols = np.where(board_mark == 0)\n",
    "    total = 0\n",
    "    for i in range(len(rows)):\n",
    "        total += board[rows[i], cols[i]]\n",
    "    return total\n"
   ]
  },
  {
   "cell_type": "markdown",
   "metadata": {},
   "source": [
    "## Part 1 : Puzzle Solution"
   ]
  },
  {
   "cell_type": "code",
   "execution_count": 3,
   "metadata": {},
   "outputs": [
    {
     "name": "stdout",
     "output_type": "stream",
     "text": [
      "35670\n"
     ]
    }
   ],
   "source": [
    "def play_bingo() -> int:\n",
    "    for number in drawn_numbers:\n",
    "        for i in range(len(boards)):\n",
    "            mark_board(number, boards[i], board_marks[i])\n",
    "            if check_board(board_marks[i]):\n",
    "                return sum_unmarked(boards[i], board_marks[i]) * number\n",
    "    return -1\n",
    "\n",
    "print(play_bingo())\n"
   ]
  },
  {
   "cell_type": "markdown",
   "metadata": {},
   "source": [
    "## Part 2 : Puzzle Description\n",
    "\n",
    "On the other hand, it might be wise to try a different strategy: let the giant squid win.\n",
    "\n",
    "You aren't sure how many bingo boards a giant squid could play at once, so rather than waste time counting its arms, the safe thing to do is to **figure out which board will win last** and choose that one. That way, no matter which boards it picks, it will win for sure.\n",
    "\n",
    "In the above example, the second board is the last to win, which happens after `13` is eventually called and its middle column is completely marked. If you were to keep playing until this point, the second board would have a sum of unmarked numbers equal to `148` for a final score of `148 * 13 = 1924`.\n",
    "\n",
    "Figure out which board will win last. Once it wins, what would its final score be?"
   ]
  },
  {
   "cell_type": "markdown",
   "metadata": {},
   "source": [
    "## Part 2 : Puzzle Solution"
   ]
  },
  {
   "cell_type": "code",
   "execution_count": 4,
   "metadata": {},
   "outputs": [
    {
     "name": "stdout",
     "output_type": "stream",
     "text": [
      "22704\n"
     ]
    }
   ],
   "source": [
    "def play_bad_bingo() -> int:\n",
    "    boards_won = []\n",
    "    for number in drawn_numbers:\n",
    "        for i in range(len(boards)):\n",
    "            mark_board(number, boards[i], board_marks[i])\n",
    "            if check_board(board_marks[i]) and i not in boards_won:\n",
    "                last_win_score = sum_unmarked(boards[i], board_marks[i]) * number\n",
    "                boards_won.append(i)\n",
    "    return last_win_score\n",
    "\n",
    "print(play_bad_bingo())"
   ]
  }
 ],
 "metadata": {
  "interpreter": {
   "hash": "fcad12e042f6e7b9c9dd464ec0a438eeade8edea4509591df912657ce5510344"
  },
  "kernelspec": {
   "display_name": "Python 3.9.7 64-bit ('junk': conda)",
   "language": "python",
   "name": "python3"
  },
  "language_info": {
   "codemirror_mode": {
    "name": "ipython",
    "version": 3
   },
   "file_extension": ".py",
   "mimetype": "text/x-python",
   "name": "python",
   "nbconvert_exporter": "python",
   "pygments_lexer": "ipython3",
   "version": "3.9.7"
  },
  "orig_nbformat": 4
 },
 "nbformat": 4,
 "nbformat_minor": 2
}
