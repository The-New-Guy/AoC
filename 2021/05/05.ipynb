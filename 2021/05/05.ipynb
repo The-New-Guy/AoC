{
 "cells": [
  {
   "cell_type": "markdown",
   "metadata": {},
   "source": [
    "# Day 5 : Hydrothermal Venture\n",
    "\n",
    "## Part 1 : Puzzle Description\n",
    "\n",
    "You come across a field of [hydrothermal vents](https://en.wikipedia.org/wiki/Hydrothermal_vent) on the ocean floor! These vents constantly produce large, opaque clouds, so it would be best to avoid them if possible.\n",
    "\n",
    "They tend to form in lines; the submarine helpfully produces a list of nearby lines of vents (your puzzle input) for you to review. For example:\n",
    "\n",
    "```text\n",
    "0,9 -> 5,9\n",
    "8,0 -> 0,8\n",
    "9,4 -> 3,4\n",
    "2,2 -> 2,1\n",
    "7,0 -> 7,4\n",
    "6,4 -> 2,0\n",
    "0,9 -> 2,9\n",
    "3,4 -> 1,4\n",
    "0,0 -> 8,8\n",
    "5,5 -> 8,2\n",
    "```\n",
    "\n",
    "Each line of vents is given as a line segment in the format x1,y1 -> x2,y2 where x1,y1 are the coordinates of one end the line segment and x2,y2 are the coordinates of the other end. These line segments include the points at both ends. In other words:\n",
    "\n",
    "- An entry like `1,1 -> 1,3` covers points `1,1`, `1,2`, and `1,3`.\n",
    "- An entry like `9,7 -> 7,7` covers points `9,7`, `8,7`, and `7,7`.\n",
    "\n",
    "For now, **only consider horizontal and vertical lines**: lines where either `x1 = x2` or `y1 = y2`.\n",
    "\n",
    "So, the horizontal and vertical lines from the above list would produce the following diagram:\n",
    "\n",
    "```text\n",
    ".......1..\n",
    "..1....1..\n",
    "..1....1..\n",
    ".......1..\n",
    ".112111211\n",
    "..........\n",
    "..........\n",
    "..........\n",
    "..........\n",
    "222111....\n",
    "```\n",
    "\n",
    "In this diagram, the top left corner is `0,0` and the bottom right corner is `9,9`. Each position is shown as **the number of lines which cover that point** or `.` if no line covers that point. The top-left pair of `1s`, for example, comes from `2,2 -> 2,1`; the very bottom row is formed by the overlapping lines `0,9 -> 5,9` and `0,9 -> 2,9`.\n",
    "\n",
    "To avoid the most dangerous areas, you need to determine **the number of points where at least two lines overlap**. In the above example, this is anywhere in the diagram with a `2` or larger - a total of `5` points.\n",
    "\n",
    "Consider only horizontal and vertical lines. **At how many points do at least two lines overlap?**"
   ]
  },
  {
   "cell_type": "markdown",
   "metadata": {},
   "source": [
    "## Load Vent Vectors"
   ]
  },
  {
   "cell_type": "code",
   "execution_count": 1,
   "metadata": {},
   "outputs": [],
   "source": [
    "import numpy as np\n",
    "import re\n",
    "\n",
    "# with open(\"example\", \"r\") as file:\n",
    "with open(\"input\", \"r\") as file:\n",
    "    vent_endpoints = file.read().splitlines()\n"
   ]
  },
  {
   "cell_type": "markdown",
   "metadata": {},
   "source": [
    "## Helper Functions"
   ]
  },
  {
   "cell_type": "code",
   "execution_count": 2,
   "metadata": {},
   "outputs": [],
   "source": [
    "def new_vector(x1: int, y1: int, x2: int, y2: int, incl_diag: bool = False) -> list:\n",
    "    if x1 != x2 and y1 == y2:\n",
    "        return [(x, y1) for x in range(min(x1, x2), (max(x1, x2) + 1))]\n",
    "    elif x1 == x2 and y1 != y2:\n",
    "        return [(x1, y) for y in range(min(y1, y2), (max(y1, y2) + 1))]\n",
    "    elif incl_diag:\n",
    "        x_points = [x for x in range(min(x1, x2), max(x1, x2) + 1)]\n",
    "        y_points = [y for y in range(min(y1, y2), max(y1, y2) + 1)]\n",
    "\n",
    "        # If first point does not match either of the original x/y points,\n",
    "        # reverse the y points to realign them with the x points.\n",
    "        if (x_points[0], y_points[0]) not in [(x1, y1), (x2, y2)]:\n",
    "            y_points.reverse()\n",
    "\n",
    "        # Zip x/y pairs up into tuples in a list.\n",
    "        return list(zip(x_points, y_points))\n",
    "    else:\n",
    "        return []\n",
    "\n",
    "\n",
    "def expand_field(vent_field: np.array, x1: int, y1: int, x2: int, y2: int) -> np.array:\n",
    "\n",
    "    # Expand columns if needed.\n",
    "    num_rows, num_cols = vent_field.shape\n",
    "    maxx = max(x1, x2)\n",
    "    if maxx >= num_cols:\n",
    "        new_cols = np.zeros(shape=(num_rows, maxx - num_cols + 1), dtype=int)\n",
    "        vent_field = np.hstack([vent_field, new_cols])\n",
    "\n",
    "    # Expland rows if needed.\n",
    "    num_rows, num_cols = vent_field.shape\n",
    "    maxy = max(y1, y2)\n",
    "    if maxy >= num_rows:\n",
    "        new_cols = np.zeros(shape=(maxy - num_rows + 1, num_cols), dtype=int)\n",
    "        vent_field = np.vstack([vent_field, new_cols])\n",
    "\n",
    "    return vent_field\n",
    "\n",
    "\n",
    "def mark_field(field: np.array, vector: list) -> None:\n",
    "    for col_x, row_y in vector:\n",
    "        field[row_y][col_x] += 1\n"
   ]
  },
  {
   "cell_type": "markdown",
   "metadata": {},
   "source": [
    "## Part 1 : Puzzle Solution"
   ]
  },
  {
   "cell_type": "code",
   "execution_count": 3,
   "metadata": {},
   "outputs": [
    {
     "name": "stdout",
     "output_type": "stream",
     "text": [
      "Danger Zones: 7142\n"
     ]
    }
   ],
   "source": [
    "def danger_zone_analysis(vent_endpoints: list, incl_diag: bool = False) -> np.array:\n",
    "\n",
    "    vent_field = np.zeros(shape=(1, 1), dtype=int)\n",
    "\n",
    "    for endpoints in vent_endpoints:\n",
    "\n",
    "        # Parse endpoints into a full vector.\n",
    "        x1, y1, x2, y2 = [int(x) for x in re.split(r\" -> |,\", endpoints)]\n",
    "        vector = new_vector(x1, y1, x2, y2, incl_diag=incl_diag)\n",
    "\n",
    "        # Expand the vent field acording to new endpoints.\n",
    "        vent_field = expand_field(vent_field, x1, y1, x2, y2)\n",
    "\n",
    "        # Mark new vector on field.\n",
    "        mark_field(vent_field, vector)\n",
    "\n",
    "    return vent_field\n",
    "\n",
    "\n",
    "vent_field = danger_zone_analysis(vent_endpoints)\n",
    "\n",
    "danger_zone_count = len(vent_field[vent_field > 1])\n",
    "\n",
    "print(f\"Danger Zones: {danger_zone_count}\")\n",
    "# print(f\"Vent Field:\\n{vent_field}\")\n"
   ]
  },
  {
   "cell_type": "markdown",
   "metadata": {},
   "source": [
    "## Part 2 : Puzzle Description\n",
    "\n",
    "Unfortunately, considering only horizontal and vertical lines doesn't give you the full picture; you need to also consider **diagonal lines**.\n",
    "\n",
    "Because of the limits of the hydrothermal vent mapping system, the lines in your list will only ever be horizontal, vertical, or a diagonal line at exactly 45 degrees. In other words:\n",
    "\n",
    "- An entry like `1,1 -> 3,3` covers points `1,1`, `2,2`, and `3,3`.\n",
    "- An entry like `9,7 -> 7,9` covers points `9,7`, `8,8`, and `7,9`.\n",
    "\n",
    "Considering all lines from the above example would now produce the following diagram:\n",
    "\n",
    "```text\n",
    "1.1....11.\n",
    ".111...2..\n",
    "..2.1.111.\n",
    "...1.2.2..\n",
    ".112313211\n",
    "...1.2....\n",
    "..1...1...\n",
    ".1.....1..\n",
    "1.......1.\n",
    "222111....\n",
    "```\n",
    "\n",
    "You still need to determine **the number of points where at least two lines overlap**. In the above example, this is still anywhere in the diagram with a `2` or larger - now a total of `12` points.\n",
    "\n",
    "Consider all of the lines. **At how many points do at least two lines overlap?**"
   ]
  },
  {
   "cell_type": "markdown",
   "metadata": {},
   "source": [
    "## Part 2 : Puzzle Solution"
   ]
  },
  {
   "cell_type": "code",
   "execution_count": 4,
   "metadata": {},
   "outputs": [
    {
     "name": "stdout",
     "output_type": "stream",
     "text": [
      "Danger Zones: 20012\n"
     ]
    }
   ],
   "source": [
    "vent_field = danger_zone_analysis(vent_endpoints, incl_diag=True)\n",
    "\n",
    "danger_zone_count = len(vent_field[vent_field > 1])\n",
    "\n",
    "print(f\"Danger Zones: {danger_zone_count}\")\n",
    "# print(f\"Vent Field:\\n{vent_field}\")"
   ]
  }
 ],
 "metadata": {
  "interpreter": {
   "hash": "fcad12e042f6e7b9c9dd464ec0a438eeade8edea4509591df912657ce5510344"
  },
  "kernelspec": {
   "display_name": "Python 3.9.7 64-bit ('junk': conda)",
   "language": "python",
   "name": "python3"
  },
  "language_info": {
   "codemirror_mode": {
    "name": "ipython",
    "version": 3
   },
   "file_extension": ".py",
   "mimetype": "text/x-python",
   "name": "python",
   "nbconvert_exporter": "python",
   "pygments_lexer": "ipython3",
   "version": "3.9.7"
  },
  "orig_nbformat": 4
 },
 "nbformat": 4,
 "nbformat_minor": 2
}
